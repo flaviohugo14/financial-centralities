{
  "cells": [
    {
      "cell_type": "raw",
      "metadata": {},
      "source": [
        "---\n",
        "author:\n",
        "  - name: \"Flávio H. P. Silva\"\n",
        "    orcid: \"0000-0003-4045-101X\"\n",
        "    url: \"https://www.linkedin.com/in/flaviopangracio/\"\n",
        "---"
      ],
      "id": "7e030ddd"
    },
    {
      "cell_type": "markdown",
      "metadata": {},
      "source": [
        "```{css, echo = FALSE}\n",
        ".justify {\n",
        "  text-align: justify !important\n",
        "}\n",
        "```\n",
        "\n",
        "\n",
        "\n",
        "# Resumo {.unnumbered}\n",
        "\n",
        "::: {.justify}\n",
        "\n",
        "O presente estudo investiga a centralidade financeira urbana no municipio de São Paulo em 2010, empregando métodos de análise regional e referenciais pós-keynesianos para avaliar o setor bancário. Por meio de dados da estatística bancária (ESTBAN), do CENSO 2010 e da RAIS, construiu-se uma base de dados georreferenciada que permitiu análises espaciais exploratórias e empíricas robustas. As análises revelaram uma concentração significativa de agências e crédito no centro da cidade, além de uma profunda desiguldade na qualidade de crédito ofertada entre os distritos periféricos e centrais. Por meio dos resultados do modelo econométrico espacial, pôde-se inferir que a qualidade financeira local e dos 5 vizinhos mais próximos influencia positivamente a renda *per capita* dos distritos.\n",
        "\n",
        ":::"
      ],
      "id": "2ace45b3"
    }
  ],
  "metadata": {
    "kernelspec": {
      "display_name": "Python 3",
      "language": "python",
      "name": "python3"
    }
  },
  "nbformat": 4,
  "nbformat_minor": 5
}